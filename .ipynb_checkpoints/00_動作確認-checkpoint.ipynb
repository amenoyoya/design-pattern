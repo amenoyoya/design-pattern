{
 "cells": [
  {
   "cell_type": "code",
   "execution_count": 4,
   "metadata": {},
   "outputs": [
    {
     "data": {
      "text/html": [
       "<div style='background:#ffecb3;padding:1em;border-left:2px solid #ff6d00'><b>Configuration is not found!</b> Default configuration will be used: <pre>{\"module\":1,\"target\":1,\"moduleResolution\":2,\"esModuleInterop\":true}</pre></div>"
      ]
     },
     "execution_count": 4,
     "metadata": {},
     "output_type": "execute_result"
    },
    {
     "name": "stdout",
     "output_type": "stream",
     "text": [
      "John は 26 歳です\n"
     ]
    }
   ],
   "source": [
    "class int extends Number {\n",
    "    constructor(v) {\n",
    "        super(v|0);\n",
    "    }\n",
    "}\n",
    "\n",
    "class Person {\n",
    "    private name: string;\n",
    "    // private age: number;\n",
    "    private age: int;\n",
    "    \n",
    "    constructor(name: string, age: int) {\n",
    "        this.name = name;\n",
    "        this.age = age;\n",
    "    }\n",
    "    \n",
    "    public hello(): string {\n",
    "        return `${this.name} は ${this.age} 歳です`;\n",
    "    }\n",
    "}\n",
    "\n",
    "let john = new Person('John', 26);\n",
    "console.log(john.hello());"
   ]
  },
  {
   "cell_type": "code",
   "execution_count": null,
   "metadata": {},
   "outputs": [],
   "source": []
  }
 ],
 "metadata": {
  "kernelspec": {
   "display_name": "Typescript 3.6",
   "language": "typescript",
   "name": "typescript"
  },
  "language_info": {
   "file_extension": ".ts",
   "mimetype": "application/x-typescript",
   "name": "typescript",
   "version": "3.6.4"
  }
 },
 "nbformat": 4,
 "nbformat_minor": 2
}
