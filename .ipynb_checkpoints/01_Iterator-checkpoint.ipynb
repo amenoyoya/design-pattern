{
 "cells": [
  {
   "cell_type": "markdown",
   "metadata": {},
   "source": [
    "# Iterator\n",
    "\n",
    "一つ一つ数え上げる\n",
    "\n",
    "## Iteratorパターン\n",
    "\n",
    "複数の要素から成る配列を先頭から終端まで走査する場合、普通に実装すると以下のような形になる"
   ]
  },
  {
   "cell_type": "code",
   "execution_count": 1,
   "metadata": {},
   "outputs": [
    {
     "data": {
      "text/html": [
       "<div style='background:#ffecb3;padding:1em;border-left:2px solid #ff6d00'><b>Configuration is not found!</b> Default configuration will be used: <pre>{\"module\":1,\"target\":1,\"moduleResolution\":2,\"esModuleInterop\":true}</pre></div>"
      ]
     },
     "execution_count": 1,
     "metadata": {},
     "output_type": "execute_result"
    },
    {
     "name": "stdout",
     "output_type": "stream",
     "text": [
      "A\n",
      "B\n",
      "C\n"
     ]
    }
   ],
   "source": [
    "const arr: string[] = ['A', 'B', 'C'];\n",
    "for (let i: number = 0; i < arr.length; ++i) {\n",
    "    console.log(arr[i]);\n",
    "}"
   ]
  },
  {
   "cell_type": "markdown",
   "metadata": {},
   "source": [
    "すなわち、添字を 0〜(配列の長さ-1) までインクリメントしていくことで、配列全体を走査することになる\n",
    "\n",
    "このような走査パターンをIteratorパターンに抽象化することで、配列以外のあらゆる集合体に対して適用できるようになる\n",
    "\n",
    "***\n",
    "\n",
    "## サンプルプログラム\n",
    "\n",
    "本棚（BookShelf）の中に本（Book）を入れ、その本の名前を順番に表示する\n",
    "\n",
    "![iterator](./img/iterator.svg)\n",
    "\n",
    "### Aggregateインタフェース: 集合体\n",
    "このインタフェースは、数え上げを行うものの「集合体」を表す\n",
    "\n",
    "Aggregateは、iteratorメソッドのみを持つ\n",
    "\n",
    "iteratorメソッドは、集合体に対応するIteratorを1つ作成する\n",
    "\n",
    "集合体を1つずつスキャンしたい場合は、このiterateメソッドを使ってIteratorインタフェースを実装したクラスのインスタンスを作る\n",
    "\n",
    "### Iteratorインタフェース: 反復子\n",
    "このインタフェースは、要素の数え上げを行うループ変数のような役割を果たす\n",
    "\n",
    "ここでは、次の要素が存在するかどうかを判定するhasNextメソッドと、次の要素を得るためのnextメソッドを定義しておく\n",
    "\n",
    "- hasNext:\n",
    "    - 次の要素が存在する場合はtrueを返す\n",
    "- next:\n",
    "    - 現在のポインタが指し示す集合体の要素を1つ返し、次の要素にポインタを一つ進める\n",
    "\n",
    "### Bookクラス\n",
    "このクラスは本を表すクラスであり、本の名前をgetNameメソッドで取得することができる\n",
    "\n",
    "### BookShelfクラス: ConcreteAggregate（集合体のインスタンス）\n",
    "このクラスは本棚を表すクラスであり、本の集合体として扱うためにAggregateインタフェースを実装する\n",
    "\n",
    "本棚は、Bookオブジェクトの配列をフィールドとして所有し、この配列をスキャンする\n",
    "\n",
    "### BookShelfIterator: ConcreteIterator（反復子のインスタンス）\n",
    "このクラスはBookShelfクラスのスキャンを行うクラスであり、Iteratorインタフェースを実装する"
   ]
  },
  {
   "cell_type": "code",
   "execution_count": 2,
   "metadata": {},
   "outputs": [
    {
     "data": {
      "text/plain": [
       "undefined"
      ]
     },
     "execution_count": 2,
     "metadata": {},
     "output_type": "execute_result"
    }
   ],
   "source": [
    "/**\n",
    " * @interface Iterator\n",
    " * 要素の数え上げを行う反復子\n",
    " */\n",
    "interface Iterator {\n",
    "    // 次の要素が存在するか判定\n",
    "    hasNext(): boolean;\n",
    "    \n",
    "    // 現在のポインタが指し示す集合体の要素を1つ返し、次の要素にポインタを一つ進める\n",
    "    next(): object;\n",
    "}\n",
    "\n",
    "/**\n",
    " * @interface Aggregate\n",
    " * 数え上げ対象の集合体\n",
    " */\n",
    "interface Aggregate {\n",
    "    // Iteratorのインスタンスを生成\n",
    "    iterator(): Iterator;\n",
    "}\n",
    "\n",
    "/**\n",
    " * @class Book\n",
    " * 集合体の要素（本）\n",
    " */\n",
    "class Book {\n",
    "    private name: string;\n",
    "    \n",
    "    public constructor(name: string) {\n",
    "        this.name = name;\n",
    "    }\n",
    "    \n",
    "    public getName(): string {\n",
    "        return this.name;\n",
    "    }\n",
    "}\n",
    "\n",
    "/**\n",
    " * @class BookShelf <: Aggregate\n",
    " * 数え上げ対象（本）の集合体（本棚）\n",
    " */\n",
    "class BookShelf implements Aggregate {\n",
    "    private books: Book[];\n",
    "    private last: number;\n",
    "    \n",
    "    public constructor(maxLength: number) {\n",
    "        this.books = new Array(maxLength);\n",
    "        this.last = 0;\n",
    "    }\n",
    "    \n",
    "    public getBookAt(index: number): Book {\n",
    "        return this.books[index];\n",
    "    }\n",
    "    \n",
    "    public appendBook(book: Book): void {\n",
    "        this.books[this.last++] = book;\n",
    "    }\n",
    "    \n",
    "    public getLength(): number {\n",
    "        return this.last;\n",
    "    }\n",
    "    \n",
    "    // Iteratorのインスタンスを生成\n",
    "    public iterator(): BookShelfIterator {\n",
    "        return new BookShelfIterator(this);\n",
    "    }\n",
    "}\n",
    "\n",
    "/**\n",
    " * @class BookShelfIterator <: Iterator\n",
    " * 要素（本）の数え上げを行う反復子\n",
    " */\n",
    "class BookShelfIterator implements Iterator {\n",
    "    private bookShelf: BookShelf;\n",
    "    private index: number;\n",
    "    \n",
    "    public constructor(bookShelf: BookShelf) {\n",
    "        this.bookShelf = bookShelf;\n",
    "        this.index = 0;\n",
    "    }\n",
    "    \n",
    "    // 次の要素が存在するか判定\n",
    "    public hasNext(): boolean {\n",
    "        return this.index < this.bookShelf.getLength();\n",
    "    }\n",
    "    \n",
    "    // 現在のポインタが指し示す集合体の要素を1つ返し、次の要素にポインタを一つ進める\n",
    "    public next(): Book {\n",
    "        return this.bookShelf.getBookAt(this.index++);\n",
    "    }\n",
    "}"
   ]
  },
  {
   "cell_type": "code",
   "execution_count": 4,
   "metadata": {},
   "outputs": [
    {
     "name": "stdout",
     "output_type": "stream",
     "text": [
      "ゼロから作るDeepLearning\n",
      "デザインパターン入門\n",
      "44の例題で学ぶ計量経済学\n",
      "SOFT SKILLS\n"
     ]
    },
    {
     "data": {
      "text/plain": [
       "undefined"
      ]
     },
     "execution_count": 4,
     "metadata": {},
     "output_type": "execute_result"
    }
   ],
   "source": [
    "/**\n",
    " * Main: 4冊の本を本棚に収納し、本棚の反復子を用いて全体をスキャンする\n",
    " */\n",
    "const bookShelf: BookShelf = new BookShelf(4); // 本棚(4冊分)\n",
    "\n",
    "bookShelf.appendBook(new Book('ゼロから作るDeepLearning'));\n",
    "bookShelf.appendBook(new Book('デザインパターン入門'));\n",
    "bookShelf.appendBook(new Book('44の例題で学ぶ計量経済学'));\n",
    "bookShelf.appendBook(new Book('SOFT SKILLS'));\n",
    "\n",
    "const it: BookShelfIterator = bookShelf.iterator(); // 本棚の反復子\n",
    "\n",
    "// 次の要素がある限りループ\n",
    "while(it.hasNext()) {\n",
    "    console.log(it.next().getName());\n",
    "}"
   ]
  },
  {
   "cell_type": "code",
   "execution_count": null,
   "metadata": {},
   "outputs": [],
   "source": []
  }
 ],
 "metadata": {
  "kernelspec": {
   "display_name": "Typescript 3.6",
   "language": "typescript",
   "name": "typescript"
  },
  "language_info": {
   "file_extension": ".ts",
   "mimetype": "application/x-typescript",
   "name": "typescript",
   "version": "3.6.4"
  }
 },
 "nbformat": 4,
 "nbformat_minor": 2
}
